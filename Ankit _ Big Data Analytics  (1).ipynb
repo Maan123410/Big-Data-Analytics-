{
  "nbformat": 4,
  "nbformat_minor": 0,
  "metadata": {
    "colab": {
      "provenance": []
    },
    "kernelspec": {
      "name": "python3",
      "display_name": "Python 3"
    },
    "language_info": {
      "name": "python"
    }
  },
  "cells": [
    {
      "cell_type": "markdown",
      "source": [
        "***MAP_REDUCE JOB***"
      ],
      "metadata": {
        "id": "VTaWyz9HB0Fq"
      }
    },
    {
      "cell_type": "code",
      "execution_count": 1,
      "metadata": {
        "colab": {
          "base_uri": "https://localhost:8080/"
        },
        "id": "pTesbGI8Bmpf",
        "outputId": "b62c2764-c691-4bfe-d292-976f987192c3"
      },
      "outputs": [
        {
          "output_type": "stream",
          "name": "stdout",
          "text": [
            "Category: Set, Total Sales: 34421367.24999988\n",
            "Category: kurta, Total Sales: 18253507.770000014\n",
            "Category: Western Dress, Total Sales: 9370095.100000026\n",
            "Category: Top, Total Sales: 4643547.019999998\n",
            "Category: Ethnic Dress, Total Sales: 670117.0300000001\n",
            "Category: Bottom, Total Sales: 142132.97999999998\n",
            "Category: Saree, Total Sales: 108235.75999999998\n",
            "Category: Blouse, Total Sales: 414735.93999999994\n",
            "Category: Dupatta, Total Sales: 915.0\n"
          ]
        }
      ],
      "source": [
        "import csv\n",
        "from functools import reduce\n",
        "\n",
        "# Step 1: Read the dataset (Amazon Sale Report.csv)\n",
        "def read_data(file_path):\n",
        "    with open(file_path, 'r') as file:\n",
        "        reader = csv.DictReader(file)\n",
        "        data = [row for row in reader]\n",
        "    return data\n",
        "\n",
        "# Step 2: Map function - Extract category and sales amount\n",
        "def map_function(record):\n",
        "    # Assuming 'Category' is in the 'Category' column and 'Amount' in the 'Amount' column\n",
        "    category = record['Category']\n",
        "    amount = float(record['Amount']) if record['Amount'] else 0\n",
        "    return (category, amount)\n",
        "\n",
        "# Step 3: Reduce function - Aggregate sales by category\n",
        "def reduce_function(accumulated, current):\n",
        "    category, amount = current\n",
        "    if category in accumulated:\n",
        "        accumulated[category] += amount\n",
        "    else:\n",
        "        accumulated[category] = amount\n",
        "    return accumulated\n",
        "\n",
        "# Step 4: Apply MapReduce\n",
        "def map_reduce(data):\n",
        "    # Map phase\n",
        "    mapped_data = map(map_function, data)\n",
        "\n",
        "    # Reduce phase\n",
        "    result = reduce(reduce_function, mapped_data, {})\n",
        "\n",
        "    return result\n",
        "\n",
        "# Step 5: Process and clean data\n",
        "def process_data(file_path):\n",
        "    data = read_data(file_path)\n",
        "    result = map_reduce(data)\n",
        "\n",
        "    # Output the results: total sales per category\n",
        "    for category, total_sales in result.items():\n",
        "        print(f\"Category: {category}, Total Sales: {total_sales}\")\n",
        "\n",
        "# Running the MapReduce job\n",
        "file_path = 'Amazon Sale Report.csv'  # Update this path if needed\n",
        "process_data(file_path)"
      ]
    },
    {
      "cell_type": "markdown",
      "source": [
        "***APACHE SPARKS JOB***"
      ],
      "metadata": {
        "id": "dETwU06yB9U0"
      }
    },
    {
      "cell_type": "code",
      "source": [
        "from pyspark.sql import SparkSession\n",
        "from pyspark.sql.functions import col, sum, avg, count, desc\n",
        "\n",
        "# Initialize a Spark session\n",
        "spark = SparkSession.builder \\\n",
        "    .appName(\"Amazon Sales Report Analysis\") \\\n",
        "    .getOrCreate()\n",
        "\n",
        "# Load the CSV data into a Spark DataFrame\n",
        "file_path = 'Amazon Sale Report.csv'  # Update the path accordingly\n",
        "df = spark.read.csv(file_path, header=True, inferSchema=True)\n",
        "# Show the first few rows of the data to inspect it\n",
        "df.show(5)"
      ],
      "metadata": {
        "colab": {
          "base_uri": "https://localhost:8080/"
        },
        "id": "LHWXSBpICL3G",
        "outputId": "021e0103-ed50-4bd0-844b-9bfa36cf24fe"
      },
      "execution_count": 4,
      "outputs": [
        {
          "output_type": "stream",
          "name": "stdout",
          "text": [
            "+-----+-------------------+--------+--------------------+----------+--------------+------------------+-------+---------------+-------------+----+----------+--------------+---+--------+------+-----------+-----------+----------------+------------+--------------------+-----+------------+-----------+\n",
            "|index|           Order ID|    Date|              Status|Fulfilment|Sales Channel |ship-service-level|  Style|            SKU|     Category|Size|      ASIN|Courier Status|Qty|currency|Amount|  ship-city| ship-state|ship-postal-code|ship-country|       promotion-ids|  B2B|fulfilled-by|Unnamed: 22|\n",
            "+-----+-------------------+--------+--------------------+----------+--------------+------------------+-------+---------------+-------------+----+----------+--------------+---+--------+------+-----------+-----------+----------------+------------+--------------------+-----+------------+-----------+\n",
            "|    0|405-8078784-5731545|04-30-22|           Cancelled|  Merchant|     Amazon.in|          Standard| SET389| SET389-KR-NP-S|          Set|   S|B09KXVBD7Z|          NULL|  0|     INR|647.62|     MUMBAI|MAHARASHTRA|        400081.0|          IN|                NULL|false|   Easy Ship|       NULL|\n",
            "|    1|171-9198151-1101146|04-30-22|Shipped - Deliver...|  Merchant|     Amazon.in|          Standard|JNE3781|JNE3781-KR-XXXL|        kurta| 3XL|B09K3WFS32|       Shipped|  1|     INR| 406.0|  BENGALURU|  KARNATAKA|        560085.0|          IN|Amazon PLCC Free-...|false|   Easy Ship|       NULL|\n",
            "|    2|404-0687676-7273146|04-30-22|             Shipped|    Amazon|     Amazon.in|         Expedited|JNE3371|  JNE3371-KR-XL|        kurta|  XL|B07WV4JV4D|       Shipped|  1|     INR| 329.0|NAVI MUMBAI|MAHARASHTRA|        410210.0|          IN|IN Core Free Ship...| true|        NULL|       NULL|\n",
            "|    3|403-9615377-8133951|04-30-22|           Cancelled|  Merchant|     Amazon.in|          Standard|  J0341|     J0341-DR-L|Western Dress|   L|B099NRCT7B|          NULL|  0|     INR|753.33| PUDUCHERRY| PUDUCHERRY|        605008.0|          IN|                NULL|false|   Easy Ship|       NULL|\n",
            "|    4|407-1069790-7240320|04-30-22|             Shipped|    Amazon|     Amazon.in|         Expedited|JNE3671|JNE3671-TU-XXXL|          Top| 3XL|B098714BZP|       Shipped|  1|     INR| 574.0|    CHENNAI| TAMIL NADU|        600073.0|          IN|                NULL|false|        NULL|       NULL|\n",
            "+-----+-------------------+--------+--------------------+----------+--------------+------------------+-------+---------------+-------------+----+----------+--------------+---+--------+------+-----------+-----------+----------------+------------+--------------------+-----+------------+-----------+\n",
            "only showing top 5 rows\n",
            "\n"
          ]
        }
      ]
    },
    {
      "cell_type": "code",
      "source": [
        "# Step 1: Data Aggregation - Calculate total sales by category\n",
        "agg_sales = df.groupBy(\"Category\").agg(\n",
        "    sum(\"Amount\").alias(\"Total_Sales\"),\n",
        "    count(\"Order ID\").alias(\"Order_Count\")\n",
        ")\n",
        "\n",
        "# Show the aggregated sales data\n",
        "agg_sales.show()"
      ],
      "metadata": {
        "colab": {
          "base_uri": "https://localhost:8080/"
        },
        "id": "_Vqu-M49Cajy",
        "outputId": "5fd2e15a-1580-483d-9ba3-70409630fb86"
      },
      "execution_count": 5,
      "outputs": [
        {
          "output_type": "stream",
          "name": "stdout",
          "text": [
            "+-------------+--------------------+-----------+\n",
            "|     Category|         Total_Sales|Order_Count|\n",
            "+-------------+--------------------+-----------+\n",
            "| Ethnic Dress|   791217.6599999999|       1159|\n",
            "|          Top|           5347792.3|      10622|\n",
            "|          Set| 3.920412402999991E7|      50284|\n",
            "|        Saree|           123933.76|        164|\n",
            "|       Bottom|  150667.97999999998|        440|\n",
            "|Western Dress| 1.121607269000002E7|      15500|\n",
            "|       Blouse|           458408.18|        926|\n",
            "|        kurta|2.1299546699999988E7|      49877|\n",
            "|      Dupatta|               915.0|          3|\n",
            "+-------------+--------------------+-----------+\n",
            "\n"
          ]
        }
      ]
    },
    {
      "cell_type": "code",
      "source": [
        "# Step 2: Data Filtering - Filter for categories with sales > 1000\n",
        "filtered_data = agg_sales.filter(col(\"Total_Sales\") > 1000)\n",
        "\n",
        "# Show the filtered data\n",
        "filtered_data.show()"
      ],
      "metadata": {
        "colab": {
          "base_uri": "https://localhost:8080/"
        },
        "id": "NZwg7wZYCequ",
        "outputId": "482d058d-62d2-4ed1-fc87-fac7caedee50"
      },
      "execution_count": 6,
      "outputs": [
        {
          "output_type": "stream",
          "name": "stdout",
          "text": [
            "+-------------+--------------------+-----------+\n",
            "|     Category|         Total_Sales|Order_Count|\n",
            "+-------------+--------------------+-----------+\n",
            "| Ethnic Dress|   791217.6599999999|       1159|\n",
            "|          Top|           5347792.3|      10622|\n",
            "|          Set| 3.920412402999991E7|      50284|\n",
            "|        Saree|           123933.76|        164|\n",
            "|       Bottom|  150667.97999999998|        440|\n",
            "|Western Dress| 1.121607269000002E7|      15500|\n",
            "|       Blouse|           458408.18|        926|\n",
            "|        kurta|2.1299546699999988E7|      49877|\n",
            "+-------------+--------------------+-----------+\n",
            "\n"
          ]
        }
      ]
    },
    {
      "cell_type": "code",
      "source": [
        "# Step 3: Exploratory Data Analysis (EDA)\n",
        "\n",
        "# Calculate the average sales per order\n",
        "avg_sales = df.agg(avg(\"Amount\").alias(\"Avg_Sales\"))\n",
        "avg_sales.show()\n",
        "\n",
        "# Find the top 5 categories by total sales\n",
        "top_categories = agg_sales.orderBy(desc(\"Total_Sales\")).limit(5)\n",
        "top_categories.show()\n",
        "\n",
        "# Calculate the total sales across all categories\n",
        "total_sales = agg_sales.agg(sum(\"Total_Sales\").alias(\"Overall_Sales\"))\n",
        "total_sales.show()"
      ],
      "metadata": {
        "colab": {
          "base_uri": "https://localhost:8080/"
        },
        "id": "wwmgF2GZCnzp",
        "outputId": "d69df672-ec5e-44b5-f8a7-7d225da50f40"
      },
      "execution_count": 7,
      "outputs": [
        {
          "output_type": "stream",
          "name": "stdout",
          "text": [
            "+-----------------+\n",
            "|        Avg_Sales|\n",
            "+-----------------+\n",
            "|648.5614647631621|\n",
            "+-----------------+\n",
            "\n",
            "+-------------+--------------------+-----------+\n",
            "|     Category|         Total_Sales|Order_Count|\n",
            "+-------------+--------------------+-----------+\n",
            "|          Set| 3.920412402999991E7|      50284|\n",
            "|        kurta|2.1299546699999988E7|      49877|\n",
            "|Western Dress| 1.121607269000002E7|      15500|\n",
            "|          Top|           5347792.3|      10622|\n",
            "| Ethnic Dress|   791217.6599999999|       1159|\n",
            "+-------------+--------------------+-----------+\n",
            "\n",
            "+-------------------+\n",
            "|      Overall_Sales|\n",
            "+-------------------+\n",
            "|7.859267829999992E7|\n",
            "+-------------------+\n",
            "\n"
          ]
        }
      ]
    },
    {
      "cell_type": "code",
      "source": [
        "# Stop the Spark session after the analysis is complete\n",
        "spark.stop()"
      ],
      "metadata": {
        "id": "6Xn0jCkDEwzM"
      },
      "execution_count": 13,
      "outputs": []
    },
    {
      "cell_type": "markdown",
      "source": [
        "***Advanced Analytics and Machine Learning***"
      ],
      "metadata": {
        "id": "zNmHeHVEDbR0"
      }
    },
    {
      "cell_type": "code",
      "source": [
        "from pyspark.sql import SparkSession\n",
        "spark = SparkSession.builder.appName('SalesPrediction').getOrCreate()"
      ],
      "metadata": {
        "id": "l2KqbWbeE2r7"
      },
      "execution_count": 14,
      "outputs": []
    },
    {
      "cell_type": "code",
      "source": [
        "# Load the dataset into a Spark DataFrame\n",
        "df = spark.read.csv('Amazon Sale Report.csv', header=True, inferSchema=True)\n",
        "\n",
        "# Handle missing values: Drop rows with null values\n",
        "df = df.dropna()"
      ],
      "metadata": {
        "id": "-T_g2AndCqm0"
      },
      "execution_count": 15,
      "outputs": []
    },
    {
      "cell_type": "code",
      "source": [
        "# Remove any extra spaces in the column names\n",
        "df = df.toDF(*[col.strip() for col in df.columns])\n",
        "\n",
        "# Check the column names after stripping spaces\n",
        "print(df.columns)\n"
      ],
      "metadata": {
        "colab": {
          "base_uri": "https://localhost:8080/"
        },
        "id": "lYGNDcPLEOzA",
        "outputId": "6f5b5360-92ac-4aae-f3d9-84067c702df9"
      },
      "execution_count": 16,
      "outputs": [
        {
          "output_type": "stream",
          "name": "stdout",
          "text": [
            "['index', 'Order ID', 'Date', 'Status', 'Fulfilment', 'Sales Channel', 'ship-service-level', 'Style', 'SKU', 'Category', 'Size', 'ASIN', 'Courier Status', 'Qty', 'currency', 'Amount', 'ship-city', 'ship-state', 'ship-postal-code', 'ship-country', 'promotion-ids', 'B2B', 'fulfilled-by', 'Unnamed: 22']\n"
          ]
        }
      ]
    },
    {
      "cell_type": "code",
      "source": [
        "from pyspark.ml.feature import StringIndexer\n",
        "\n",
        "# Apply StringIndexer to the 'Category' column\n",
        "indexer = StringIndexer(inputCol=\"Category\", outputCol=\"CategoryIndex\")\n",
        "df = indexer.fit(df).transform(df)\n",
        "\n",
        "# Apply StringIndexer to the 'Sales Channel' column (after removing space)\n",
        "indexer2 = StringIndexer(inputCol=\"Sales Channel\", outputCol=\"SalesChannelIndex\")\n",
        "df = indexer2.fit(df).transform(df)\n",
        "\n",
        "# Show the resulting DataFrame with indexed columns\n",
        "df.show(5)\n"
      ],
      "metadata": {
        "colab": {
          "base_uri": "https://localhost:8080/"
        },
        "id": "-toNqONKDxzn",
        "outputId": "7d40d8a3-32ae-49fd-84b6-2540dcb3b810"
      },
      "execution_count": 17,
      "outputs": [
        {
          "output_type": "stream",
          "name": "stdout",
          "text": [
            "+-----+-------------------+--------+--------------------+----------+-------------+------------------+-------+--------------+-------------+----+----------+--------------+---+--------+------+----------------+---------------+----------------+------------+--------------------+-----+------------+-----------+-------------+-----------------+\n",
            "|index|           Order ID|    Date|              Status|Fulfilment|Sales Channel|ship-service-level|  Style|           SKU|     Category|Size|      ASIN|Courier Status|Qty|currency|Amount|       ship-city|     ship-state|ship-postal-code|ship-country|       promotion-ids|  B2B|fulfilled-by|Unnamed: 22|CategoryIndex|SalesChannelIndex|\n",
            "+-----+-------------------+--------+--------------------+----------+-------------+------------------+-------+--------------+-------------+----+----------+--------------+---+--------+------+----------------+---------------+----------------+------------+--------------------+-----+------------+-----------+-------------+-----------------+\n",
            "|49051|408-4858463-2356347|05-31-22|Shipped - Deliver...|  Merchant|    Amazon.in|          Standard|  J0385|    J0385-KR-M|        kurta|   M|B09YYNG98D|       Shipped|  1|     INR| 888.0|     RAJAHMUNDRY| ANDHRA PRADESH|        533126.0|          IN|Amazon PLCC Free-...|false|   Easy Ship|      false|          1.0|              0.0|\n",
            "|49077|402-7697834-2682766|05-31-22|Shipped - Deliver...|  Merchant|    Amazon.in|          Standard|JNE3654|JNE3654-TP-XXL|          Top| XXL|B09B3GWVJ9|       Shipped|  1|     INR| 371.0|         CHENNAI|     TAMIL NADU|        600042.0|          IN|Amazon PLCC Free-...|false|   Easy Ship|      false|          3.0|              0.0|\n",
            "|49081|402-7031777-0396341|05-31-22|Shipped - Deliver...|  Merchant|    Amazon.in|          Standard|JNE3798| JNE3798-KR-XS|Western Dress|  XS|B09SDY7MHD|       Shipped|  1|     INR| 771.0|      NEDUMANGAD|         KERALA|        695541.0|          IN|Amazon PLCC Free-...|false|   Easy Ship|      false|          2.0|              0.0|\n",
            "|49082|408-1235521-4337163|05-31-22|Shipped - Deliver...|  Merchant|    Amazon.in|          Standard|  J0152|    J0152-DR-L|Western Dress|   L|B08V197XLZ|       Shipped|  1|     INR|   0.0|             LEH|JAMMU & KASHMIR|        194101.0|          IN|Amazon PLCC Free-...|false|   Easy Ship|      false|          2.0|              0.0|\n",
            "|49083|403-3845187-4421165|05-31-22|Shipped - Deliver...|  Merchant|    Amazon.in|          Standard|  J0157|   J0157-DR-XL|Western Dress|  XL|B098316HXL|       Shipped|  1|     INR| 690.0|PIMPRI CHINCHWAD|    MAHARASHTRA|        411027.0|          IN|Amazon PLCC Free-...|false|   Easy Ship|      false|          2.0|              0.0|\n",
            "+-----+-------------------+--------+--------------------+----------+-------------+------------------+-------+--------------+-------------+----+----------+--------------+---+--------+------+----------------+---------------+----------------+------------+--------------------+-----+------------+-----------+-------------+-----------------+\n",
            "only showing top 5 rows\n",
            "\n"
          ]
        }
      ]
    },
    {
      "cell_type": "code",
      "source": [
        "# Select features and label for the regression model\n",
        "df = df.select(\"Amount\", \"CategoryIndex\", \"SalesChannelIndex\", \"Qty\")\n",
        "\n",
        "# Split the data into training and testing sets\n",
        "train_data, test_data = df.randomSplit([0.8, 0.2], seed=1234)"
      ],
      "metadata": {
        "id": "_aKtTKnNFJrd"
      },
      "execution_count": 18,
      "outputs": []
    },
    {
      "cell_type": "code",
      "source": [
        "from pyspark.ml.feature import VectorAssembler\n",
        "\n",
        "# Combine features into a single vector column\n",
        "assembler = VectorAssembler(inputCols=[\"CategoryIndex\", \"SalesChannelIndex\", \"Qty\"], outputCol=\"features\")\n",
        "train_data = assembler.transform(train_data)\n",
        "test_data = assembler.transform(test_data)"
      ],
      "metadata": {
        "id": "se5iGek-FMO8"
      },
      "execution_count": 19,
      "outputs": []
    },
    {
      "cell_type": "code",
      "source": [
        "from pyspark.ml.regression import LinearRegression\n",
        "\n",
        "# Train a Linear Regression model\n",
        "lr = LinearRegression(featuresCol=\"features\", labelCol=\"Amount\")\n",
        "lr_model = lr.fit(train_data)\n",
        "\n",
        "# Make predictions on the test data\n",
        "predictions = lr_model.transform(test_data)\n",
        "\n",
        "# Show predictions\n",
        "predictions.select(\"Amount\", \"prediction\").show(5)"
      ],
      "metadata": {
        "colab": {
          "base_uri": "https://localhost:8080/"
        },
        "id": "PLUAQPnpFMnc",
        "outputId": "a35a070c-dab9-4504-93f8-94105d784cd5"
      },
      "execution_count": 20,
      "outputs": [
        {
          "output_type": "stream",
          "name": "stdout",
          "text": [
            "+------+-----------------+\n",
            "|Amount|       prediction|\n",
            "+------+-----------------+\n",
            "|   0.0|747.2303988863031|\n",
            "|   0.0|747.2303988863031|\n",
            "|   0.0|747.2303988863031|\n",
            "|   0.0|747.2303988863031|\n",
            "|   0.0|747.2303988863031|\n",
            "+------+-----------------+\n",
            "only showing top 5 rows\n",
            "\n"
          ]
        }
      ]
    },
    {
      "cell_type": "code",
      "source": [
        "from pyspark.ml.evaluation import RegressionEvaluator\n",
        "\n",
        "# Evaluate the model\n",
        "evaluator = RegressionEvaluator(labelCol=\"Amount\", predictionCol=\"prediction\", metricName=\"rmse\")\n",
        "rmse = evaluator.evaluate(predictions)\n",
        "print(f\"Root Mean Squared Error (RMSE) on test data: {rmse}\")\n",
        "\n",
        "# Evaluate R2 (coefficient of determination)\n",
        "evaluator_r2 = RegressionEvaluator(labelCol=\"Amount\", predictionCol=\"prediction\", metricName=\"r2\")\n",
        "r2 = evaluator_r2.evaluate(predictions)\n",
        "print(f\"R2 on test data: {r2}\")"
      ],
      "metadata": {
        "colab": {
          "base_uri": "https://localhost:8080/"
        },
        "id": "ex4CFQZXFPm3",
        "outputId": "4e260abf-f349-423b-e8ed-f89204f17a15"
      },
      "execution_count": 21,
      "outputs": [
        {
          "output_type": "stream",
          "name": "stdout",
          "text": [
            "Root Mean Squared Error (RMSE) on test data: 273.7028781532372\n",
            "R2 on test data: 0.08765224285724638\n"
          ]
        }
      ]
    },
    {
      "cell_type": "code",
      "source": [
        "import pandas as pd\n",
        "import matplotlib.pyplot as plt\n",
        "\n",
        "# Convert Spark DataFrame to Pandas for visualization\n",
        "predictions_pd = predictions.select(\"Amount\", \"prediction\").toPandas()\n",
        "\n",
        "# Plot the actual vs predicted values\n",
        "plt.figure(figsize=(10, 6))\n",
        "plt.scatter(predictions_pd['Amount'], predictions_pd['prediction'], color='blue', label='Predicted vs Actual')\n",
        "plt.plot([0, max(predictions_pd['Amount'])], [0, max(predictions_pd['Amount'])], color='red', linestyle='--')\n",
        "plt.title('Actual vs Predicted Sales Amount')\n",
        "plt.xlabel('Actual Amount')\n",
        "plt.ylabel('Predicted Amount')\n",
        "plt.legend()\n",
        "plt.show()\n",
        "\n",
        "# Stop the Spark session after the analysis is complete\n",
        "spark.stop()\n"
      ],
      "metadata": {
        "colab": {
          "base_uri": "https://localhost:8080/",
          "height": 564
        },
        "id": "shkmHbqmFYxE",
        "outputId": "2c14eb8f-7523-4496-dc05-80a46fb74c76"
      },
      "execution_count": 23,
      "outputs": [
        {
          "output_type": "display_data",
          "data": {
            "text/plain": [
              "<Figure size 1000x600 with 1 Axes>"
            ],
            "image/png": "[encoded data removed]"
          },
          "metadata": {}
        }
      ]
    }
  ]
}